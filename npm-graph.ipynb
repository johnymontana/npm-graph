{
 "cells": [
  {
   "cell_type": "code",
   "execution_count": 1,
   "metadata": {
    "collapsed": true
   },
   "outputs": [],
   "source": [
    "from py2neo import Graph\n",
    "import json\n",
    "import requests"
   ]
  },
  {
   "cell_type": "markdown",
   "metadata": {},
   "source": [
    "## Import the NPM registry into Neo4j"
   ]
  },
  {
   "cell_type": "code",
   "execution_count": 2,
   "metadata": {
    "collapsed": true
   },
   "outputs": [],
   "source": [
    "REGISTRY_URL = \"https://skimdb.npmjs.com/registry/\""
   ]
  },
  {
   "cell_type": "code",
   "execution_count": 40,
   "metadata": {
    "collapsed": true
   },
   "outputs": [],
   "source": [
    "graph = Graph()"
   ]
  },
  {
   "cell_type": "code",
   "execution_count": 4,
   "metadata": {
    "collapsed": false
   },
   "outputs": [],
   "source": [
    "def loadPackage(package_name):\n",
    "    r = requests.get(REGISTRY_URL + package_name)\n",
    "    d = r.json()\n",
    "    latest_tag = d['dist-tags']['latest']\n",
    "    current_version = d['versions'][latest_tag]\n",
    "    print(latest_tag)\n",
    "    graph.cypher.execute(PACKAGE_IMPORT_QUERY, parameters={'json': d, 'current_version': current_version})\n",
    "    #return d, current_version"
   ]
  },
  {
   "cell_type": "code",
   "execution_count": 53,
   "metadata": {
    "collapsed": true
   },
   "outputs": [],
   "source": [
    "PACKAGE_IMPORT_QUERY = '''\n",
    "WITH {json} AS data \n",
    "MERGE (p:Package {package_id: data._id})\n",
    "SET p._rev = data._rev,\n",
    "    p.name = data.name,\n",
    "    p.description = data.description\n",
    "\n",
    "MERGE (author:Developer {email: coalesce(data.author.email, \"N/A\")})\n",
    "SET author.name = data.author.name\n",
    "CREATE UNIQUE (p)<-[:AUTHOR_OF]-(author)\n",
    "\n",
    "MERGE (rep:Repository {url: coalesce(data.repository.url, \"N/A\")})\n",
    "SET rep.type = data.repository.type\n",
    "CREATE UNIQUE (p)-[:HAS_REPO]->(rep)\n",
    "\n",
    "FOREACH (maint IN data.maintainers | \n",
    "    MERGE (m:Developer {email: coalesce(maint.email, \"N/A\")})\n",
    "    SET m.name = maint.name\n",
    "    CREATE UNIQUE (m)-[:MAINTAINS]->(p)\n",
    ")\n",
    "\n",
    "FOREACH (cont IN data.contributors |\n",
    "    MERGE (c:Developer {email: coalesce(cont.email, \"N/A\")})\n",
    "    SET c.name = cont.name\n",
    "    CREATE UNIQUE (c)-[:CONTRIBUTES_TO]->(p)\n",
    ")\n",
    "\n",
    "FOREACH (kw IN data.keywords |\n",
    "    MERGE (k:Keyword {word: kw})\n",
    "    CREATE UNIQUE (k)<-[:DEALS_WITH]-(p)\n",
    ")\n",
    "\n",
    "//WITH data, p, {current_version} AS current_version\n",
    "WITH data,p\n",
    "UNWIND keys(data.versions) AS cv\n",
    "\n",
    "MERGE (v:Version {version: data.versions[cv][\"version\"]})<-[:HAS_VERSION]-(p)\n",
    "//CREATE UNIQUE (p)-[:HAS_VERISON]->(v)\n",
    "\n",
    "MERGE (l:License {name: coalesce(data.versions[cv][\"license\"], \"N/A\")})\n",
    "CREATE UNIQUE (v)-[:LICENSED_UNDER]->(l)\n",
    "\n",
    "FOREACH (dep IN keys(data.versions[cv][\"dependencies\"]) |\n",
    "    MERGE (dep_p:Package {package_id: dep})\n",
    "    MERGE (dep_v:Version {version: replace(replace(data.versions[cv][\"dependencies\"][dep], \"~\", \"\"), \">=\", \"\")})<-[:HAS_VERSION]-(dep_p)\n",
    "    //MERGE (dep_v)<-[:HAS_VERSION]-(dep_p)\n",
    "    //SET dep_p.version = replace(replace(current_version.dependencies[dep], \"~\", \"\"), \">=\", \"\")\n",
    "    CREATE UNIQUE (dep_v)<-[:DEPENDS_ON]-(v)\n",
    ")\n",
    "\n",
    "\n",
    "\n",
    "// What is the users array??\n",
    "//FOREACH (user IN keys(data.users) |\n",
    "//    MERGE (user:Package {package_id: })\n",
    "//    CREATE UNIQUE (p)<-[:USES]-()\n",
    "\n",
    "'''\n",
    "\n",
    "GET_PENDING_PACKAGE_QUERY = '''\n",
    "MATCH (p:Package) WHERE NOT has(p.name)\n",
    "RETURN p.package_id AS package_id LIMIT 1\n",
    "'''"
   ]
  },
  {
   "cell_type": "code",
   "execution_count": 49,
   "metadata": {
    "collapsed": false
   },
   "outputs": [
    {
     "name": "stdout",
     "output_type": "stream",
     "text": [
      "4.13.4\n"
     ]
    }
   ],
   "source": [
    "loadPackage(\"express\")"
   ]
  },
  {
   "cell_type": "code",
   "execution_count": 134,
   "metadata": {
    "collapsed": false
   },
   "outputs": [
    {
     "data": {
      "text/plain": []
     },
     "execution_count": 134,
     "metadata": {},
     "output_type": "execute_result"
    }
   ],
   "source": [
    "graph.cypher.execute(PACKAGE_IMPORT_QUERY, parameters={'json': package_json, 'current_version': latest_tag})"
   ]
  },
  {
   "cell_type": "code",
   "execution_count": 86,
   "metadata": {
    "collapsed": false
   },
   "outputs": [
    {
     "data": {
      "text/plain": [
       "dict_keys(['users', 'maintainers', 'homepage', 'readme', 'readmeFilename', 'dist-tags', 'versions', 'description', 'license', '_rev', 'repository', 'name', 'bugs', '_id', 'time', 'keywords', 'author'])"
      ]
     },
     "execution_count": 86,
     "metadata": {},
     "output_type": "execute_result"
    }
   ],
   "source": [
    "express.keys()"
   ]
  },
  {
   "cell_type": "code",
   "execution_count": 54,
   "metadata": {
    "collapsed": false
   },
   "outputs": [
    {
     "name": "stdout",
     "output_type": "stream",
     "text": [
      "inherits\n",
      "2.0.1\n"
     ]
    },
    {
     "ename": "InvalidType",
     "evalue": "Property values can only be of primitive types or arrays thereof",
     "output_type": "error",
     "traceback": [
      "\u001b[0;31m---------------------------------------------------------------------------\u001b[0m",
      "\u001b[0;31mInvalidType\u001b[0m                               Traceback (most recent call last)",
      "\u001b[0;32m<ipython-input-54-5155ff37262d>\u001b[0m in \u001b[0;36m<module>\u001b[0;34m()\u001b[0m\n\u001b[1;32m      3\u001b[0m     \u001b[0mnew_package\u001b[0m \u001b[0;34m=\u001b[0m \u001b[0mresult\u001b[0m\u001b[0;34m.\u001b[0m\u001b[0mone\u001b[0m\u001b[0;34m\u001b[0m\u001b[0m\n\u001b[1;32m      4\u001b[0m     \u001b[0mprint\u001b[0m\u001b[0;34m(\u001b[0m\u001b[0mnew_package\u001b[0m\u001b[0;34m)\u001b[0m\u001b[0;34m\u001b[0m\u001b[0m\n\u001b[0;32m----> 5\u001b[0;31m     \u001b[0mloadPackage\u001b[0m\u001b[0;34m(\u001b[0m\u001b[0mnew_package\u001b[0m\u001b[0;34m)\u001b[0m\u001b[0;34m\u001b[0m\u001b[0m\n\u001b[0m\u001b[1;32m      6\u001b[0m     \u001b[0mresult\u001b[0m \u001b[0;34m=\u001b[0m \u001b[0mgraph\u001b[0m\u001b[0;34m.\u001b[0m\u001b[0mcypher\u001b[0m\u001b[0;34m.\u001b[0m\u001b[0mexecute\u001b[0m\u001b[0;34m(\u001b[0m\u001b[0mGET_PENDING_PACKAGE_QUERY\u001b[0m\u001b[0;34m)\u001b[0m\u001b[0;34m\u001b[0m\u001b[0m\n",
      "\u001b[0;32m<ipython-input-4-668a9b87f691>\u001b[0m in \u001b[0;36mloadPackage\u001b[0;34m(package_name)\u001b[0m\n\u001b[1;32m      5\u001b[0m     \u001b[0mcurrent_version\u001b[0m \u001b[0;34m=\u001b[0m \u001b[0md\u001b[0m\u001b[0;34m[\u001b[0m\u001b[0;34m'versions'\u001b[0m\u001b[0;34m]\u001b[0m\u001b[0;34m[\u001b[0m\u001b[0mlatest_tag\u001b[0m\u001b[0;34m]\u001b[0m\u001b[0;34m\u001b[0m\u001b[0m\n\u001b[1;32m      6\u001b[0m     \u001b[0mprint\u001b[0m\u001b[0;34m(\u001b[0m\u001b[0mlatest_tag\u001b[0m\u001b[0;34m)\u001b[0m\u001b[0;34m\u001b[0m\u001b[0m\n\u001b[0;32m----> 7\u001b[0;31m     \u001b[0mgraph\u001b[0m\u001b[0;34m.\u001b[0m\u001b[0mcypher\u001b[0m\u001b[0;34m.\u001b[0m\u001b[0mexecute\u001b[0m\u001b[0;34m(\u001b[0m\u001b[0mPACKAGE_IMPORT_QUERY\u001b[0m\u001b[0;34m,\u001b[0m \u001b[0mparameters\u001b[0m\u001b[0;34m=\u001b[0m\u001b[0;34m{\u001b[0m\u001b[0;34m'json'\u001b[0m\u001b[0;34m:\u001b[0m \u001b[0md\u001b[0m\u001b[0;34m,\u001b[0m \u001b[0;34m'current_version'\u001b[0m\u001b[0;34m:\u001b[0m \u001b[0mcurrent_version\u001b[0m\u001b[0;34m}\u001b[0m\u001b[0;34m)\u001b[0m\u001b[0;34m\u001b[0m\u001b[0m\n\u001b[0m\u001b[1;32m      8\u001b[0m     \u001b[0;31m#return d, current_version\u001b[0m\u001b[0;34m\u001b[0m\u001b[0;34m\u001b[0m\u001b[0m\n",
      "\u001b[0;32m/usr/local/lib/python3.5/site-packages/py2neo/cypher/core.py\u001b[0m in \u001b[0;36mexecute\u001b[0;34m(self, statement, parameters, **kwparameters)\u001b[0m\n\u001b[1;32m    109\u001b[0m             \u001b[0mtx\u001b[0m \u001b[0;34m=\u001b[0m \u001b[0mCypherTransaction\u001b[0m\u001b[0;34m(\u001b[0m\u001b[0mself\u001b[0m\u001b[0;34m.\u001b[0m\u001b[0mtransaction_uri\u001b[0m\u001b[0;34m)\u001b[0m\u001b[0;34m\u001b[0m\u001b[0m\n\u001b[1;32m    110\u001b[0m             \u001b[0mtx\u001b[0m\u001b[0;34m.\u001b[0m\u001b[0mappend\u001b[0m\u001b[0;34m(\u001b[0m\u001b[0mstatement\u001b[0m\u001b[0;34m,\u001b[0m \u001b[0mparameters\u001b[0m\u001b[0;34m,\u001b[0m \u001b[0;34m**\u001b[0m\u001b[0mkwparameters\u001b[0m\u001b[0;34m)\u001b[0m\u001b[0;34m\u001b[0m\u001b[0m\n\u001b[0;32m--> 111\u001b[0;31m             \u001b[0mresults\u001b[0m \u001b[0;34m=\u001b[0m \u001b[0mtx\u001b[0m\u001b[0;34m.\u001b[0m\u001b[0mcommit\u001b[0m\u001b[0;34m(\u001b[0m\u001b[0;34m)\u001b[0m\u001b[0;34m\u001b[0m\u001b[0m\n\u001b[0m\u001b[1;32m    112\u001b[0m             \u001b[0;32mreturn\u001b[0m \u001b[0mresults\u001b[0m\u001b[0;34m[\u001b[0m\u001b[0;36m0\u001b[0m\u001b[0;34m]\u001b[0m\u001b[0;34m\u001b[0m\u001b[0m\n\u001b[1;32m    113\u001b[0m         \u001b[0;32melse\u001b[0m\u001b[0;34m:\u001b[0m\u001b[0;34m\u001b[0m\u001b[0m\n",
      "\u001b[0;32m/usr/local/lib/python3.5/site-packages/py2neo/cypher/core.py\u001b[0m in \u001b[0;36mcommit\u001b[0;34m(self)\u001b[0m\n\u001b[1;32m    304\u001b[0m         \u001b[0mlog\u001b[0m\u001b[0;34m.\u001b[0m\u001b[0minfo\u001b[0m\u001b[0;34m(\u001b[0m\u001b[0;34m\"commit\"\u001b[0m\u001b[0;34m)\u001b[0m\u001b[0;34m\u001b[0m\u001b[0m\n\u001b[1;32m    305\u001b[0m         \u001b[0;32mtry\u001b[0m\u001b[0;34m:\u001b[0m\u001b[0;34m\u001b[0m\u001b[0m\n\u001b[0;32m--> 306\u001b[0;31m             \u001b[0;32mreturn\u001b[0m \u001b[0mself\u001b[0m\u001b[0;34m.\u001b[0m\u001b[0mpost\u001b[0m\u001b[0;34m(\u001b[0m\u001b[0mself\u001b[0m\u001b[0;34m.\u001b[0m\u001b[0m__commit\u001b[0m \u001b[0;32mor\u001b[0m \u001b[0mself\u001b[0m\u001b[0;34m.\u001b[0m\u001b[0m__begin_commit\u001b[0m\u001b[0;34m)\u001b[0m\u001b[0;34m\u001b[0m\u001b[0m\n\u001b[0m\u001b[1;32m    307\u001b[0m         \u001b[0;32mfinally\u001b[0m\u001b[0;34m:\u001b[0m\u001b[0;34m\u001b[0m\u001b[0m\n\u001b[1;32m    308\u001b[0m             \u001b[0mself\u001b[0m\u001b[0;34m.\u001b[0m\u001b[0m__finished\u001b[0m \u001b[0;34m=\u001b[0m \u001b[0;32mTrue\u001b[0m\u001b[0;34m\u001b[0m\u001b[0m\n",
      "\u001b[0;32m/usr/local/lib/python3.5/site-packages/py2neo/cypher/core.py\u001b[0m in \u001b[0;36mpost\u001b[0;34m(self, resource)\u001b[0m\n\u001b[1;32m    259\u001b[0m             \u001b[0;32mif\u001b[0m \u001b[0mlen\u001b[0m\u001b[0;34m(\u001b[0m\u001b[0merrors\u001b[0m\u001b[0;34m)\u001b[0m \u001b[0;34m>=\u001b[0m \u001b[0;36m1\u001b[0m\u001b[0;34m:\u001b[0m\u001b[0;34m\u001b[0m\u001b[0m\n\u001b[1;32m    260\u001b[0m                 \u001b[0merror\u001b[0m \u001b[0;34m=\u001b[0m \u001b[0merrors\u001b[0m\u001b[0;34m[\u001b[0m\u001b[0;36m0\u001b[0m\u001b[0;34m]\u001b[0m\u001b[0;34m\u001b[0m\u001b[0m\n\u001b[0;32m--> 261\u001b[0;31m                 \u001b[0;32mraise\u001b[0m \u001b[0mself\u001b[0m\u001b[0;34m.\u001b[0m\u001b[0merror_class\u001b[0m\u001b[0;34m.\u001b[0m\u001b[0mhydrate\u001b[0m\u001b[0;34m(\u001b[0m\u001b[0merror\u001b[0m\u001b[0;34m)\u001b[0m\u001b[0;34m\u001b[0m\u001b[0m\n\u001b[0m\u001b[1;32m    262\u001b[0m         \u001b[0mout\u001b[0m \u001b[0;34m=\u001b[0m \u001b[0mRecordListList\u001b[0m\u001b[0;34m(\u001b[0m\u001b[0;34m)\u001b[0m\u001b[0;34m\u001b[0m\u001b[0m\n\u001b[1;32m    263\u001b[0m         \u001b[0;32mfor\u001b[0m \u001b[0mresult\u001b[0m \u001b[0;32min\u001b[0m \u001b[0mj\u001b[0m\u001b[0;34m[\u001b[0m\u001b[0;34m\"results\"\u001b[0m\u001b[0;34m]\u001b[0m\u001b[0;34m:\u001b[0m\u001b[0;34m\u001b[0m\u001b[0m\n",
      "\u001b[0;31mInvalidType\u001b[0m: Property values can only be of primitive types or arrays thereof"
     ]
    }
   ],
   "source": [
    "result = graph.cypher.execute(GET_PENDING_PACKAGE_QUERY)\n",
    "while result:\n",
    "    new_package = result.one\n",
    "    print(new_package)\n",
    "    loadPackage(new_package)\n",
    "    result = graph.cypher.execute(GET_PENDING_PACKAGE_QUERY)"
   ]
  },
  {
   "cell_type": "code",
   "execution_count": 151,
   "metadata": {
    "collapsed": false
   },
   "outputs": [
    {
     "name": "stdout",
     "output_type": "stream",
     "text": [
      "1.0.6\n"
     ]
    }
   ],
   "source": [
    "loadPackage(\"cookie-signature\")"
   ]
  },
  {
   "cell_type": "code",
   "execution_count": null,
   "metadata": {
    "collapsed": true
   },
   "outputs": [],
   "source": []
  }
 ],
 "metadata": {
  "kernelspec": {
   "display_name": "Python 3",
   "language": "python",
   "name": "python3"
  },
  "language_info": {
   "codemirror_mode": {
    "name": "ipython",
    "version": 3
   },
   "file_extension": ".py",
   "mimetype": "text/x-python",
   "name": "python",
   "nbconvert_exporter": "python",
   "pygments_lexer": "ipython3",
   "version": "3.5.0"
  }
 },
 "nbformat": 4,
 "nbformat_minor": 0
}
