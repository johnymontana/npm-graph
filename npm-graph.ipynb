{
 "cells": [
  {
   "cell_type": "code",
   "execution_count": 1,
   "metadata": {
    "collapsed": true
   },
   "outputs": [],
   "source": [
    "from py2neo import Graph\n",
    "import json\n",
    "import requests"
   ]
  },
  {
   "cell_type": "markdown",
   "metadata": {},
   "source": [
    "## Import the NPM registry into Neo4j"
   ]
  },
  {
   "cell_type": "code",
   "execution_count": 2,
   "metadata": {
    "collapsed": true
   },
   "outputs": [],
   "source": [
    "REGISTRY_URL = \"https://skimdb.npmjs.com/registry/\""
   ]
  },
  {
   "cell_type": "code",
   "execution_count": 3,
   "metadata": {
    "collapsed": true
   },
   "outputs": [],
   "source": [
    "graph = Graph()"
   ]
  },
  {
   "cell_type": "code",
   "execution_count": 4,
   "metadata": {
    "collapsed": false
   },
   "outputs": [],
   "source": [
    "def loadPackage(package_name):\n",
    "    r = requests.get(REGISTRY_URL + package_name)\n",
    "    d = r.json()\n",
    "    latest_tag = d['dist-tags']['latest']\n",
    "    #current_version = d['versions'][latest_tag]\n",
    "    print(latest_tag)\n",
    "    graph.cypher.execute(PACKAGE_IMPORT_QUERY, parameters={'json': d, 'current_version': latest_tag})\n",
    "    #return d, current_version"
   ]
  },
  {
   "cell_type": "code",
   "execution_count": 5,
   "metadata": {
    "collapsed": true
   },
   "outputs": [],
   "source": [
    "# TODO: create (Package)-[:LATEST]->(Version)\n",
    "# TODO: rename Package to Module\n",
    "PACKAGE_IMPORT_QUERY = '''\n",
    "WITH {json} AS data \n",
    "MERGE (p:Package {package_id: data._id})\n",
    "SET p._rev = data._rev,\n",
    "    p.name = data.name,\n",
    "    p.description = data.description\n",
    "\n",
    "MERGE (author:Developer {email: coalesce(data.author.email, \"N/A\")})\n",
    "SET author.name = data.author.name\n",
    "CREATE UNIQUE (p)<-[:AUTHOR_OF]-(author)\n",
    "\n",
    "MERGE (rep:Repository {url: coalesce(data.repository.url, \"N/A\")})\n",
    "SET rep.type = data.repository.type\n",
    "CREATE UNIQUE (p)-[:HAS_REPO]->(rep)\n",
    "\n",
    "FOREACH (maint IN data.maintainers | \n",
    "    MERGE (m:Developer {email: coalesce(maint.email, \"N/A\")})\n",
    "    SET m.name = maint.name\n",
    "    CREATE UNIQUE (m)-[:MAINTAINS]->(p)\n",
    ")\n",
    "\n",
    "FOREACH (cont IN data.contributors |\n",
    "    MERGE (c:Developer {email: coalesce(cont.email, \"N/A\")})\n",
    "    SET c.name = cont.name\n",
    "    CREATE UNIQUE (c)-[:CONTRIBUTES_TO]->(p)\n",
    ")\n",
    "\n",
    "FOREACH (kw IN data.keywords |\n",
    "    MERGE (k:Keyword {word: kw})\n",
    "    CREATE UNIQUE (k)<-[:DEALS_WITH]-(p)\n",
    ")\n",
    "\n",
    "\n",
    "WITH data, p\n",
    "UNWIND keys(data.versions) AS cv\n",
    "\n",
    "MERGE (v:Version {version: data.versions[cv][\"version\"]})<-[:HAS_VERSION]-(p)\n",
    "\n",
    "\n",
    "MERGE (l:License {name: coalesce(data.versions[cv][\"license\"], \"N/A\")})\n",
    "CREATE UNIQUE (v)-[:LICENSED_UNDER]->(l)\n",
    "\n",
    "FOREACH (dep IN keys(data.versions[cv][\"dependencies\"]) |\n",
    "    MERGE (dep_p:Package {package_id: dep})\n",
    "    MERGE (dep_v:Version {version: replace(replace(data.versions[cv][\"dependencies\"][dep], \"~\", \"\"), \">=\", \"\")})<-[:HAS_VERSION]-(dep_p)\n",
    "    //MERGE (dep_v)<-[:HAS_VERSION]-(dep_p)\n",
    "    //SET dep_p.version = replace(replace(current_version.dependencies[dep], \"~\", \"\"), \">=\", \"\")\n",
    "    CREATE UNIQUE (dep_v)<-[:DEPENDS_ON]-(v)\n",
    ")\n",
    "\n",
    "\n",
    "\n",
    "\n",
    "'''\n",
    "\n",
    "GET_PENDING_PACKAGE_QUERY = '''\n",
    "MATCH (p:Package) WHERE NOT has(p.name) AND NOT has(p.crawled)\n",
    "WITH p LIMIT 1\n",
    "SET p.crawled = true\n",
    "RETURN p.package_id AS package_id LIMIT 1\n",
    "'''"
   ]
  },
  {
   "cell_type": "code",
   "execution_count": 3,
   "metadata": {
    "collapsed": false
   },
   "outputs": [],
   "source": [
    "# start with a single module and crawl from there\n",
    "loadPackage(\"express\")"
   ]
  },
  {
   "cell_type": "code",
   "execution_count": 134,
   "metadata": {
    "collapsed": false
   },
   "outputs": [
    {
     "data": {
      "text/plain": []
     },
     "execution_count": 134,
     "metadata": {},
     "output_type": "execute_result"
    }
   ],
   "source": [
    "graph.cypher.execute(PACKAGE_IMPORT_QUERY, parameters={'json': package_json, 'current_version': latest_tag})"
   ]
  },
  {
   "cell_type": "code",
   "execution_count": 8,
   "metadata": {
    "collapsed": false
   },
   "outputs": [],
   "source": [
    "def crawlRegistry():\n",
    "    result = graph.cypher.execute(GET_PENDING_PACKAGE_QUERY)\n",
    "    while result:\n",
    "        new_package = result.one\n",
    "        print(new_package)\n",
    "        try:\n",
    "            loadPackage(new_package)\n",
    "            result = graph.cypher.execute(GET_PENDING_PACKAGE_QUERY)\n",
    "        except:\n",
    "            crawlRegistry()"
   ]
  },
  {
   "cell_type": "code",
   "execution_count": 1,
   "metadata": {
    "collapsed": false
   },
   "outputs": [],
   "source": [
    "crawlRegistry()"
   ]
  },
  {
   "cell_type": "code",
   "execution_count": null,
   "metadata": {
    "collapsed": false
   },
   "outputs": [],
   "source": []
  },
  {
   "cell_type": "code",
   "execution_count": null,
   "metadata": {
    "collapsed": true
   },
   "outputs": [],
   "source": []
  }
 ],
 "metadata": {
  "kernelspec": {
   "display_name": "Python 3",
   "language": "python",
   "name": "python3"
  },
  "language_info": {
   "codemirror_mode": {
    "name": "ipython",
    "version": 3
   },
   "file_extension": ".py",
   "mimetype": "text/x-python",
   "name": "python",
   "nbconvert_exporter": "python",
   "pygments_lexer": "ipython3",
   "version": "3.5.0"
  }
 },
 "nbformat": 4,
 "nbformat_minor": 0
}
